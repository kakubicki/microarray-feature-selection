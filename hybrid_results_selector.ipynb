{
 "cells": [
  {
   "cell_type": "code",
   "execution_count": 1,
   "metadata": {},
   "outputs": [],
   "source": [
    "import os\n",
    "import pandas as pd"
   ]
  },
  {
   "cell_type": "markdown",
   "metadata": {},
   "source": [
    "# Split onto filters and embedded "
   ]
  },
  {
   "cell_type": "code",
   "execution_count": 95,
   "metadata": {},
   "outputs": [],
   "source": [
    "GA_dir = 'outputs/results_splitted_hybrid_GA-weighted_metrics-fixed_subsets-01_17_2024-combined.csv'\n",
    "ABC_dir = 'outputs/results_splitted_wrapper_ABC-fixed_subsets-01_20_2024-combined.csv'\n",
    "PSO_dir = 'outputs/results_splitted_wrapper_PSO-fixed_subsets-01_20_2024-combined.csv'"
   ]
  },
  {
   "cell_type": "code",
   "execution_count": 96,
   "metadata": {},
   "outputs": [],
   "source": [
    "GA_all = pd.read_csv(GA_dir)\n",
    "ABC_all = pd.read_csv(ABC_dir)\n",
    "PSO_all = pd.read_csv(PSO_dir)"
   ]
  },
  {
   "cell_type": "code",
   "execution_count": 97,
   "metadata": {},
   "outputs": [],
   "source": [
    "filter_dataset_names = ['ANOVA_lung_cancer_df', \n",
    "                        'ANOVA_barretNP_df_1000', \n",
    "                        'ANOVA_GLA_BRA_180_df', \n",
    "                        'chi2_lung_cancer_df', \n",
    "                        'chi2_barretNP_df_1000', \n",
    "                        'chi2_GLA_BRA_180_df',\n",
    "                        'MI_lung_cancer_df', \n",
    "                        'MI_barretNP_df_1000', \n",
    "                        'MI_GLA_BRA_180_df']\n",
    "\n",
    "embedded_dataset_names = ['RF_lung_cancer_df', \n",
    "                        'RF_barretNP_df', \n",
    "                        'RF_GLA_BRA_180_df',\n",
    "                        'Ridge_lung_cancer_df', \n",
    "                        'Ridge_barretNP_df', \n",
    "                        'Ridge_GLA_BRA_180_df',\n",
    "                        'SVM_RFE_lung_cancer_df', \n",
    "                        'SVM_RFE_barretNP_df', \n",
    "                        'SVM_RFE_GLA_BRA_180_df']"
   ]
  },
  {
   "cell_type": "code",
   "execution_count": 98,
   "metadata": {},
   "outputs": [],
   "source": [
    "GA_filters = GA_all[GA_all['Dataset'].isin(filter_dataset_names)]\n",
    "GA_embedded = GA_all[GA_all['Dataset'].isin(embedded_dataset_names)]\n",
    "\n",
    "ABC_filters = ABC_all[ABC_all['Dataset'].isin(filter_dataset_names)]\n",
    "ABC_embedded = ABC_all[ABC_all['Dataset'].isin(embedded_dataset_names)]\n",
    "\n",
    "PSO_filters = PSO_all[PSO_all['Dataset'].isin(filter_dataset_names)]\n",
    "PSO_embedded = PSO_all[PSO_all['Dataset'].isin(embedded_dataset_names)]"
   ]
  },
  {
   "cell_type": "code",
   "execution_count": 99,
   "metadata": {},
   "outputs": [],
   "source": [
    "GA_filters.to_csv('outputs/hybrid_df/split/results_splitted_hybrid_GA-weighted_metrics-fixed_subsets-01_17_2024-combined-split_filters.csv', index=False)\n",
    "GA_embedded.to_csv('outputs/hybrid_df/split/results_splitted_hybrid_GA-weighted_metrics-fixed_subsets-01_17_2024-combined-split_embedded.csv', index=False)\n",
    "\n",
    "ABC_filters.to_csv('outputs/hybrid_df/split/results_splitted_wrapper_ABC-fixed_subsets-01_20_2024-combined-split_filters.csv', index=False)\n",
    "ABC_embedded.to_csv('outputs/hybrid_df/split/results_splitted_wrapper_ABC-fixed_subsets-01_20_2024-combined-split_embedded.csv', index=False)\n",
    "\n",
    "PSO_filters.to_csv('outputs/hybrid_df/split/results_splitted_wrapper_PSO-fixed_subsets-01_20_2024-combined-split_filters.csv', index=False)\n",
    "PSO_embedded.to_csv('outputs/hybrid_df/split/results_splitted_wrapper_PSO-fixed_subsets-01_20_2024-combined-split_embedded.csv', index=False)"
   ]
  },
  {
   "cell_type": "markdown",
   "metadata": {},
   "source": [
    "# Select only one classif result "
   ]
  },
  {
   "cell_type": "code",
   "execution_count": 100,
   "metadata": {},
   "outputs": [],
   "source": [
    "GA_filters_dir = 'outputs/hybrid_df/split/results_splitted_hybrid_GA-weighted_metrics-fixed_subsets-01_17_2024-combined-split_filters.csv'\n",
    "GA_embedded_dir = 'outputs/hybrid_df/split/results_splitted_hybrid_GA-weighted_metrics-fixed_subsets-01_17_2024-combined-split_embedded.csv'\n",
    "\n",
    "ABC_filters_dir = 'outputs/hybrid_df/split/results_splitted_wrapper_ABC-fixed_subsets-01_20_2024-combined-split_filters.csv'\n",
    "ABC_embedded_dir = 'outputs/hybrid_df/split/results_splitted_wrapper_ABC-fixed_subsets-01_20_2024-combined-split_embedded.csv'\n",
    "\n",
    "PSO_filters_dir = 'outputs/hybrid_df/split/results_splitted_wrapper_PSO-fixed_subsets-01_20_2024-combined-split_filters.csv'\n",
    "PSO_embedded_dir = 'outputs/hybrid_df/split/results_splitted_wrapper_PSO-fixed_subsets-01_20_2024-combined-split_embedded.csv'"
   ]
  },
  {
   "cell_type": "code",
   "execution_count": 101,
   "metadata": {},
   "outputs": [],
   "source": [
    "GA_filters_all = pd.read_csv(GA_filters_dir)\n",
    "GA_embedded_all = pd.read_csv(GA_embedded_dir)\n",
    "\n",
    "ABC_filters_all = pd.read_csv(ABC_filters_dir)\n",
    "ABC_embedded_all = pd.read_csv(ABC_embedded_dir)\n",
    "\n",
    "PSO_filters_all = pd.read_csv(PSO_filters_dir)\n",
    "PSO_embedded_all = pd.read_csv(PSO_embedded_dir)"
   ]
  },
  {
   "cell_type": "code",
   "execution_count": 102,
   "metadata": {},
   "outputs": [],
   "source": [
    "dict_classif = {'Naive Bayes' : 'NB', \n",
    "                'Naive_Bayes' : 'NB',\n",
    "                'Random Forest' : 'RF', \n",
    "                'Random_Forest' : 'RF'\n",
    "                }\n",
    "\n",
    "GA_filters_all = GA_filters_all.replace({'Classification method' : dict_classif})\n",
    "GA_embedded_all = GA_embedded_all.replace({'Classification method' : dict_classif})\n",
    "ABC_filters_all = ABC_filters_all.replace({'Classification method' : dict_classif})\n",
    "ABC_embedded_all = ABC_embedded_all.replace({'Classification method' : dict_classif})\n",
    "PSO_filters_all = PSO_filters_all.replace({'Classification method' : dict_classif})\n",
    "PSO_embedded_all = PSO_embedded_all.replace({'Classification method' : dict_classif})"
   ]
  },
  {
   "cell_type": "code",
   "execution_count": 103,
   "metadata": {},
   "outputs": [],
   "source": [
    "selected_classif_methods = {\n",
    "    'ANOVA_lung_cancer_df': 'kNN',\n",
    "    'ANOVA_barretNP_df_1000' : 'kNN', \n",
    "    'ANOVA_GLA_BRA_180_df' : 'kNN', \n",
    "    'chi2_lung_cancer_df' : 'kNN', \n",
    "    'chi2_barretNP_df_1000' : 'kNN', \n",
    "    'chi2_GLA_BRA_180_df' : 'kNN',\n",
    "    'MI_lung_cancer_df' : 'kNN', \n",
    "    'MI_barretNP_df_1000' : 'kNN', \n",
    "    'MI_GLA_BRA_180_df' : 'kNN', \n",
    "    \n",
    "    'RF_lung_cancer_df' : 'SVM', \n",
    "    'RF_barretNP_df' : 'SVM', \n",
    "    'RF_GLA_BRA_180_df' : 'kNN',\n",
    "    'Ridge_lung_cancer_df' : 'SVM', \n",
    "    'Ridge_barretNP_df' : 'kNN', \n",
    "    'Ridge_GLA_BRA_180_df' : 'kNN',\n",
    "    'SVM_RFE_lung_cancer_df' : 'SVM', \n",
    "    'SVM_RFE_barretNP_df' : 'RF', \n",
    "    'SVM_RFE_GLA_BRA_180_df' : 'RF'}\n",
    "\n",
    "selected_classif_methods = pd.DataFrame(list(selected_classif_methods.items()), columns=['Dataset', 'Classification method'])"
   ]
  },
  {
   "cell_type": "code",
   "execution_count": 104,
   "metadata": {},
   "outputs": [],
   "source": [
    "GA_filters_selected = pd.merge(GA_filters_all, selected_classif_methods, on=['Dataset', 'Classification method'], how='inner')\n",
    "GA_embedded_selected = pd.merge(GA_embedded_all, selected_classif_methods, on=['Dataset', 'Classification method'], how='inner')\n",
    "\n",
    "ABC_filters_selected = pd.merge(ABC_filters_all, selected_classif_methods, on=['Dataset', 'Classification method'], how='inner')\n",
    "ABC_embedded_selected = pd.merge(ABC_embedded_all, selected_classif_methods, on=['Dataset', 'Classification method'], how='inner')\n",
    "\n",
    "PSO_filters_selected = pd.merge(PSO_filters_all, selected_classif_methods, on=['Dataset', 'Classification method'], how='inner')\n",
    "PSO_embedded_selected = pd.merge(PSO_embedded_all, selected_classif_methods, on=['Dataset', 'Classification method'], how='inner')"
   ]
  },
  {
   "cell_type": "code",
   "execution_count": 105,
   "metadata": {},
   "outputs": [
    {
     "data": {
      "text/plain": [
       "array(['RF_barretNP_df', 'RF_GLA_BRA_180_df', 'RF_lung_cancer_df',\n",
       "       'Ridge_barretNP_df', 'Ridge_lung_cancer_df',\n",
       "       'Ridge_GLA_BRA_180_df', 'SVM_RFE_barretNP_df',\n",
       "       'SVM_RFE_GLA_BRA_180_df', 'SVM_RFE_lung_cancer_df'], dtype=object)"
      ]
     },
     "execution_count": 105,
     "metadata": {},
     "output_type": "execute_result"
    }
   ],
   "source": [
    "ABC_embedded_selected.Dataset.unique()"
   ]
  },
  {
   "cell_type": "code",
   "execution_count": 106,
   "metadata": {},
   "outputs": [
    {
     "data": {
      "text/plain": [
       "9"
      ]
     },
     "execution_count": 106,
     "metadata": {},
     "output_type": "execute_result"
    }
   ],
   "source": [
    "len(ABC_embedded_selected.Dataset.unique())"
   ]
  },
  {
   "cell_type": "code",
   "execution_count": 107,
   "metadata": {},
   "outputs": [],
   "source": [
    "GA_filters_selected.to_csv('outputs/hybrid_df/split/selected_classif/results_splitted_hybrid_GA-weighted_metrics-fixed_subsets-01_17_2024-combined-split_filters_selected.csv', index=False)\n",
    "GA_embedded_selected.to_csv('outputs/hybrid_df/split/selected_classif/results_splitted_hybrid_GA-weighted_metrics-fixed_subsets-01_17_2024-combined-split_embedded_selected.csv', index=False)\n",
    "\n",
    "ABC_filters_selected.to_csv('outputs/hybrid_df/split/selected_classif/results_splitted_wrapper_ABC-fixed_subsets-01_20_2024-combined-split_filters_selected.csv', index=False)\n",
    "ABC_embedded_selected.to_csv('outputs/hybrid_df/split/selected_classif/results_splitted_wrapper_ABC-fixed_subsets-01_20_2024-combined-split_embedded_selected.csv', index=False)\n",
    "\n",
    "PSO_filters_selected.to_csv('outputs/hybrid_df/split/selected_classif/results_splitted_wrapper_PSO-fixed_subsets-01_20_2024-combined-split_filters_selected.csv', index=False)\n",
    "PSO_embedded_selected.to_csv('outputs/hybrid_df/split/selected_classif/results_splitted_wrapper_PSO-fixed_subsets-01_20_2024-combined-split_embedded_selected.csv', index=False)"
   ]
  },
  {
   "cell_type": "code",
   "execution_count": null,
   "metadata": {},
   "outputs": [],
   "source": []
  },
  {
   "cell_type": "code",
   "execution_count": null,
   "metadata": {},
   "outputs": [],
   "source": []
  },
  {
   "cell_type": "code",
   "execution_count": null,
   "metadata": {},
   "outputs": [],
   "source": []
  }
 ],
 "metadata": {
  "kernelspec": {
   "display_name": "venv",
   "language": "python",
   "name": "python3"
  },
  "language_info": {
   "codemirror_mode": {
    "name": "ipython",
    "version": 3
   },
   "file_extension": ".py",
   "mimetype": "text/x-python",
   "name": "python",
   "nbconvert_exporter": "python",
   "pygments_lexer": "ipython3",
   "version": "3.10.9"
  }
 },
 "nbformat": 4,
 "nbformat_minor": 2
}
